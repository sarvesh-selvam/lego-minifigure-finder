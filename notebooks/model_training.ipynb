{
 "cells": [
  {
   "cell_type": "markdown",
   "id": "81bd7e2b",
   "metadata": {},
   "source": [
    "# Model Training\n",
    "\n",
    "This notebook this trains and explores various machine learning models"
   ]
  },
  {
   "cell_type": "markdown",
   "id": "02a6543a",
   "metadata": {},
   "source": [
    "## Data Processing & Loading"
   ]
  },
  {
   "cell_type": "code",
   "execution_count": null,
   "id": "49c58462",
   "metadata": {},
   "outputs": [
    {
     "name": "stdout",
     "output_type": "stream",
     "text": [
      "Working directory set to: /Users/sarvesh/Desktop/GitHub/lego-minifigure-finder\n"
     ]
    }
   ],
   "source": [
    "# src/data.py\n",
    "\n",
    "import os\n",
    "from pathlib import Path\n",
    "\n",
    "import random\n",
    "import pandas as pd\n",
    "import numpy as np\n",
    "from PIL import Image\n",
    "import torch\n",
    "from torch.utils.data import Dataset, DataLoader\n",
    "from torchvision import transforms as T\n",
    "\n",
    "\n",
    "# move up one level from the current directory\n",
    "os.chdir(Path.cwd().parent)\n",
    "\n",
    "print(\"Working directory set to:\", Path.cwd())"
   ]
  },
  {
   "cell_type": "code",
   "execution_count": null,
   "id": "b7a283bc",
   "metadata": {},
   "outputs": [],
   "source": [
    "def set_seed(seed: int = 27):\n",
    "    random.seed(seed)\n",
    "    np.random.seed(seed)\n",
    "    torch.manual_seed(seed)\n",
    "    if torch.cuda.is_available():\n",
    "        torch.cuda.manual_seed_all(seed)\n",
    "\n",
    "set_seed(27)"
   ]
  },
  {
   "cell_type": "code",
   "execution_count": 3,
   "id": "fe61de76",
   "metadata": {},
   "outputs": [],
   "source": [
    "IMAGENET_MEAN = [0.485, 0.456, 0.406]\n",
    "IMAGENET_STD  = [0.229, 0.224, 0.225]\n",
    "\n",
    "\n",
    "\n",
    "def _tfms(image_size=224):\n",
    "    train = T.Compose([\n",
    "        T.Resize(int(image_size * 1.14)),\n",
    "        T.RandomResizedCrop(image_size, scale=(0.8, 1.0)),\n",
    "        T.RandomHorizontalFlip(p=0.5),\n",
    "        T.ToTensor(),\n",
    "        T.Normalize(IMAGENET_MEAN, IMAGENET_STD),\n",
    "    ])\n",
    "    eval_ = T.Compose([\n",
    "        T.Resize(int(image_size * 1.14)),\n",
    "        T.CenterCrop(image_size),\n",
    "        T.ToTensor(),\n",
    "        T.Normalize(IMAGENET_MEAN, IMAGENET_STD),\n",
    "    ])\n",
    "    return {\"train\": train, \"val\": eval_, \"test\": eval_}\n",
    "\n",
    "\n",
    "\n",
    "class CSVDataset(Dataset):\n",
    "    def __init__(self, csv_path, img_dir, transforms=None):\n",
    "        self.df = pd.read_csv(csv_path)\n",
    "        if not {\"filename\",\"label\"}.issubset(self.df.columns):\n",
    "            raise ValueError(f\"{csv_path} must have 'filename' and 'label' columns.\")\n",
    "        self.img_dir = img_dir\n",
    "        self.transforms = transforms\n",
    "\n",
    "    def __len__(self): return len(self.df)\n",
    "\n",
    "    def __getitem__(self, idx):\n",
    "        row = self.df.iloc[idx]\n",
    "        path = os.path.join(self.img_dir, str(row[\"filename\"]))\n",
    "        img = Image.open(path).convert(\"RGB\")\n",
    "        y = int(row[\"label\"])\n",
    "        if self.transforms: img = self.transforms(img)\n",
    "        return img, y\n",
    "\n",
    "\n",
    "\n",
    "def make_loaders(\n",
    "    data_dir=\"data\",\n",
    "    images_subdir=\"images\",\n",
    "    batch_size=32,\n",
    "    num_workers=0,         # macOS: start at 0; bump later if stable\n",
    "    image_size=224,\n",
    "):\n",
    "    csvs = {\n",
    "        \"train\": os.path.join(data_dir, \"train.csv\"),\n",
    "        \"val\":   os.path.join(data_dir, \"val.csv\"),\n",
    "        \"test\":  os.path.join(data_dir, \"test.csv\"),\n",
    "    }\n",
    "    img_dir = os.path.join(data_dir, images_subdir)\n",
    "    tf = _tfms(image_size)\n",
    "\n",
    "    ds = {\n",
    "        split: CSVDataset(csvs[split], img_dir, transforms=tf[\"train\" if split==\"train\" else \"val\"])\n",
    "        for split in [\"train\",\"val\",\"test\"]\n",
    "    }\n",
    "\n",
    "    loaders = {\n",
    "        \"train\": DataLoader(ds[\"train\"], batch_size=batch_size, shuffle=True,\n",
    "                            num_workers=num_workers),\n",
    "        \"val\":   DataLoader(ds[\"val\"], batch_size=batch_size, shuffle=False,\n",
    "                            num_workers=num_workers),\n",
    "        \"test\":  DataLoader(ds[\"test\"], batch_size=batch_size, shuffle=False,\n",
    "                            num_workers=num_workers),\n",
    "    }\n",
    "    return loaders"
   ]
  },
  {
   "cell_type": "code",
   "execution_count": 7,
   "id": "1fd42d0a",
   "metadata": {},
   "outputs": [
    {
     "name": "stdout",
     "output_type": "stream",
     "text": [
      "torch.Size([16, 3, 224, 224]) tensor([1, 0, 0, 1, 0, 0, 0, 0])\n"
     ]
    }
   ],
   "source": [
    "data_dir = \"data\"\n",
    "\n",
    "loaders = make_loaders(data_dir=data_dir, images_subdir=\"images\", batch_size=16)\n",
    "imgs, labels = next(iter(loaders[\"train\"]))\n",
    "print(imgs.shape, labels[:8])"
   ]
  },
  {
   "cell_type": "markdown",
   "id": "0e3f3c45",
   "metadata": {},
   "source": [
    "## Model Training"
   ]
  },
  {
   "cell_type": "code",
   "execution_count": 8,
   "id": "a6f3a496",
   "metadata": {},
   "outputs": [],
   "source": [
    "import time\n",
    "\n",
    "import pandas as pd\n",
    "import seaborn as sns\n",
    "import matplotlib.pyplot as plt         # plots can be saved as artifacts\n",
    "import numpy as np\n",
    "\n",
    "\n",
    "import torch\n",
    "from torch import nn, optim\n",
    "from torch.utils.data import DataLoader\n",
    "from sklearn.metrics import accuracy_score, classification_report, confusion_matrix\n",
    "\n",
    "\n",
    "import mlflow\n",
    "import mlflow.pytorch                  # for logging PyTorch models"
   ]
  },
  {
   "cell_type": "code",
   "execution_count": 9,
   "id": "6b3e5f07",
   "metadata": {},
   "outputs": [],
   "source": [
    "from mlflow import MlflowClient\n",
    "\n",
    "client = MlflowClient(tracking_uri=\"http://127.0.0.1:5001\")"
   ]
  },
  {
   "cell_type": "code",
   "execution_count": 10,
   "id": "2840a246",
   "metadata": {},
   "outputs": [
    {
     "data": {
      "text/plain": [
       "device(type='mps')"
      ]
     },
     "execution_count": 10,
     "metadata": {},
     "output_type": "execute_result"
    }
   ],
   "source": [
    "# Use CUDA if available; otherwise prefer Apple MPS if present; else CPU.\n",
    "if torch.cuda.is_available():\n",
    "    device = torch.device(\"cuda\")\n",
    "elif torch.backends.mps.is_available():\n",
    "    device = torch.device(\"mps\")\n",
    "else:\n",
    "    device = torch.device(\"cpu\")\n",
    "device\n"
   ]
  },
  {
   "cell_type": "code",
   "execution_count": 11,
   "id": "9fcb1c0a",
   "metadata": {},
   "outputs": [
    {
     "name": "stdout",
     "output_type": "stream",
     "text": [
      "train 30 batches\n",
      "val 6 batches\n",
      "test 7 batches\n"
     ]
    }
   ],
   "source": [
    "# # If you created make_loaders earlier:\n",
    "# try:\n",
    "#     from src.data import make_loaders\n",
    "# except Exception:\n",
    "#     # Fallback: assume data.py at repo root\n",
    "#     from data import make_loaders\n",
    "\n",
    "# Build loaders\n",
    "loaders = make_loaders(\n",
    "    data_dir=\"data\",\n",
    "    images_subdir=\"images\",\n",
    "    batch_size=32,\n",
    "    num_workers=0,          # bump to 2-4 later if stable\n",
    "    image_size=224\n",
    ")\n",
    "\n",
    "for k,v in loaders.items():\n",
    "    print(k, len(v), \"batches\")\n"
   ]
  },
  {
   "cell_type": "code",
   "execution_count": 44,
   "id": "6da1d456",
   "metadata": {},
   "outputs": [],
   "source": [
    "CLASS_NAMES = [\"not_minifig\", \"minifig\"]\n",
    "IMG_SIZE = 224\n",
    "MEAN = [0.485, 0.456, 0.406]\n",
    "STD  = [0.229, 0.224, 0.225]\n",
    "EXPORT_DIR = \"models\""
   ]
  },
  {
   "cell_type": "code",
   "execution_count": null,
   "id": "811de34e",
   "metadata": {},
   "outputs": [],
   "source": [
    "\n",
    "def train_one_epoch(model, loader, criterion, optimizer, device):\n",
    "    model.train()\n",
    "    running_loss = 0.0\n",
    "    preds_all, y_all = [], []\n",
    "\n",
    "    for imgs, y in loader:\n",
    "        imgs = imgs.to(device)\n",
    "        y = y.to(device)\n",
    "\n",
    "        optimizer.zero_grad()\n",
    "        logits = model(imgs)\n",
    "        loss = criterion(logits, y)\n",
    "        loss.backward()\n",
    "        optimizer.step()\n",
    "\n",
    "        running_loss += loss.item() * imgs.size(0)\n",
    "        preds = torch.argmax(logits, dim=1)\n",
    "        preds_all.append(preds.detach().cpu())\n",
    "        y_all.append(y.detach().cpu())\n",
    "\n",
    "    epoch_loss = running_loss / len(loader.dataset)\n",
    "    y_true = torch.cat(y_all).numpy()\n",
    "    y_pred = torch.cat(preds_all).numpy()\n",
    "    epoch_acc = accuracy_score(y_true, y_pred)\n",
    "    return epoch_loss, epoch_acc\n",
    "\n",
    "\n",
    "\n",
    "\n",
    "@torch.no_grad()\n",
    "def evaluate(model, loader, criterion, device):\n",
    "    model.eval()\n",
    "    running_loss = 0.0\n",
    "    preds_all, y_all = [], []\n",
    "\n",
    "    for imgs, y in loader:\n",
    "        imgs = imgs.to(device)\n",
    "        y = y.to(device)\n",
    "\n",
    "        logits = model(imgs)\n",
    "        loss = criterion(logits, y)\n",
    "        running_loss += loss.item() * imgs.size(0)\n",
    "\n",
    "        preds = torch.argmax(logits, dim=1)\n",
    "        preds_all.append(preds.detach().cpu())\n",
    "        y_all.append(y.detach().cpu())\n",
    "\n",
    "    epoch_loss = running_loss / len(loader.dataset)\n",
    "    y_true = torch.cat(y_all).numpy()\n",
    "    y_pred = torch.cat(preds_all).numpy()\n",
    "    epoch_acc = accuracy_score(y_true, y_pred)\n",
    "    return epoch_loss, epoch_acc, y_true, y_pred\n",
    "\n",
    "\n",
    "\n",
    "\n",
    "def fit(model, loaders, epochs, lr=1e-3, weight_decay=0.0):\n",
    "    \n",
    "    model.to(device)\n",
    "    criterion = nn.CrossEntropyLoss()\n",
    "    optimizer = optim.Adam(model.parameters(), lr=lr, weight_decay=weight_decay)\n",
    "\n",
    "    best_val_acc = -1\n",
    "    best_state = None\n",
    "    history = []\n",
    "\n",
    "    for epoch in range(1, epochs+1):\n",
    "        t0 = time.time()\n",
    "        tr_loss, tr_acc = train_one_epoch(model, loaders[\"train\"], criterion, optimizer, device)\n",
    "        va_loss, va_acc, _, _ = evaluate(model, loaders[\"val\"], criterion, device)\n",
    "        dt = time.time() - t0\n",
    "\n",
    "        history.append({\"epoch\": epoch, \"train_loss\": tr_loss, \"train_acc\": tr_acc,\n",
    "                        \"val_loss\": va_loss, \"val_acc\": va_acc, \"sec\": dt})\n",
    "        print(f\"[{epoch:02d}] \"\n",
    "              f\"train_loss={tr_loss:.4f} acc={tr_acc:.4f} | \"\n",
    "              f\"val_loss={va_loss:.4f} acc={va_acc:.4f} | {dt:.1f}s\")\n",
    "\n",
    "        if va_acc > best_val_acc:\n",
    "            best_val_acc = va_acc\n",
    "            best_state = {k: v.cpu() for k, v in model.state_dict().items()}\n",
    "\n",
    "            # # NEW (Phase 4.1) — quick checkpoint\n",
    "            # os.makedirs(EXPORT_DIR, exist_ok=True)\n",
    "            # torch.save({\n",
    "            #     \"epoch\": epoch,\n",
    "            #     \"arch\": model.__class__.__name__,\n",
    "            #     \"model_state_dict\": {k: v.detach().cpu() for k, v in model.state_dict().items()},\n",
    "            #     \"val_loss\": va_loss,\n",
    "            #     \"val_acc\": va_acc,\n",
    "            # }, f\"{EXPORT_DIR}/best_ckpt.pt\")\n",
    "        \n",
    "\n",
    "    if best_state is not None:\n",
    "        model.load_state_dict(best_state)\n",
    "\n",
    "    return model, history\n"
   ]
  },
  {
   "cell_type": "markdown",
   "id": "1bb3119b",
   "metadata": {},
   "source": [
    "### Defining Custom CNN Model"
   ]
  },
  {
   "cell_type": "code",
   "execution_count": 13,
   "id": "e5905a0f",
   "metadata": {},
   "outputs": [
    {
     "data": {
      "text/plain": [
       "SmallCNN(\n",
       "  (features): Sequential(\n",
       "    (0): Conv2d(3, 32, kernel_size=(3, 3), stride=(2, 2), padding=(1, 1))\n",
       "    (1): BatchNorm2d(32, eps=1e-05, momentum=0.1, affine=True, track_running_stats=True)\n",
       "    (2): ReLU(inplace=True)\n",
       "    (3): Conv2d(32, 64, kernel_size=(3, 3), stride=(2, 2), padding=(1, 1))\n",
       "    (4): BatchNorm2d(64, eps=1e-05, momentum=0.1, affine=True, track_running_stats=True)\n",
       "    (5): ReLU(inplace=True)\n",
       "    (6): Conv2d(64, 128, kernel_size=(3, 3), stride=(2, 2), padding=(1, 1))\n",
       "    (7): BatchNorm2d(128, eps=1e-05, momentum=0.1, affine=True, track_running_stats=True)\n",
       "    (8): ReLU(inplace=True)\n",
       "    (9): Conv2d(128, 256, kernel_size=(3, 3), stride=(2, 2), padding=(1, 1))\n",
       "    (10): BatchNorm2d(256, eps=1e-05, momentum=0.1, affine=True, track_running_stats=True)\n",
       "    (11): ReLU(inplace=True)\n",
       "    (12): AdaptiveAvgPool2d(output_size=(1, 1))\n",
       "  )\n",
       "  (classifier): Sequential(\n",
       "    (0): Flatten(start_dim=1, end_dim=-1)\n",
       "    (1): Dropout(p=0.25, inplace=False)\n",
       "    (2): Linear(in_features=256, out_features=2, bias=True)\n",
       "  )\n",
       ")"
      ]
     },
     "execution_count": 13,
     "metadata": {},
     "output_type": "execute_result"
    }
   ],
   "source": [
    "class SmallCNN(nn.Module):\n",
    "    \"\"\"\n",
    "    Very small CNN for quick iteration.\n",
    "    Input: [B, 3, 224, 224] -> 2 classes\n",
    "    \"\"\"\n",
    "\n",
    "    def __init__(self, num_classes=2):\n",
    "        super().__init__()\n",
    "        self.features = nn.Sequential(\n",
    "            nn.Conv2d(3, 32, kernel_size=3, stride=2, padding=1),  # 112x112\n",
    "            nn.BatchNorm2d(32),\n",
    "            nn.ReLU(inplace=True),\n",
    "\n",
    "            nn.Conv2d(32, 64, kernel_size=3, stride=2, padding=1), # 56x56\n",
    "            nn.BatchNorm2d(64),\n",
    "            nn.ReLU(inplace=True),\n",
    "\n",
    "            nn.Conv2d(64, 128, kernel_size=3, stride=2, padding=1),# 28x28\n",
    "            nn.BatchNorm2d(128),\n",
    "            nn.ReLU(inplace=True),\n",
    "\n",
    "            nn.Conv2d(128, 256, kernel_size=3, stride=2, padding=1),# 14x14\n",
    "            nn.BatchNorm2d(256),\n",
    "            nn.ReLU(inplace=True),\n",
    "\n",
    "            nn.AdaptiveAvgPool2d((1,1))  # -> [B, 256, 1, 1]\n",
    "        )\n",
    "        self.classifier = nn.Sequential(\n",
    "            nn.Flatten(),\n",
    "            nn.Dropout(0.25),\n",
    "            nn.Linear(256, num_classes)\n",
    "        )\n",
    "\n",
    "    def forward(self, x):\n",
    "        x = self.features(x)\n",
    "        x = self.classifier(x)\n",
    "        return x\n",
    "\n",
    "small_cnn = SmallCNN(num_classes=2)\n",
    "small_cnn\n"
   ]
  },
  {
   "cell_type": "markdown",
   "id": "5adc539c",
   "metadata": {},
   "source": [
    "## Running Model"
   ]
  },
  {
   "cell_type": "code",
   "execution_count": 14,
   "id": "22212fc9",
   "metadata": {},
   "outputs": [
    {
     "name": "stderr",
     "output_type": "stream",
     "text": [
      "2025/10/08 18:30:20 INFO mlflow.tracking.fluent: Experiment with name 'lego-minifig-test' does not exist. Creating a new experiment.\n"
     ]
    },
    {
     "data": {
      "text/plain": [
       "<Experiment: artifact_location='/Users/sarvesh/Desktop/GitHub/lego-minifigure-finder/mlflow/161657527952067457', creation_time=1759966220812, experiment_id='161657527952067457', last_update_time=1759966220812, lifecycle_stage='active', name='lego-minifig-test', tags={}>"
      ]
     },
     "execution_count": 14,
     "metadata": {},
     "output_type": "execute_result"
    }
   ],
   "source": [
    "mlflow.set_tracking_uri(os.path.abspath(\"./mlflow\"))   # local folder for runs\n",
    "mlflow.set_experiment(\"lego-minifig-test\")"
   ]
  },
  {
   "cell_type": "code",
   "execution_count": null,
   "id": "a6135214",
   "metadata": {},
   "outputs": [],
   "source": [
    "# mlflow ui --backend-store-uri ./mlflow "
   ]
  },
  {
   "cell_type": "code",
   "execution_count": 31,
   "id": "f157867f",
   "metadata": {},
   "outputs": [
    {
     "name": "stdout",
     "output_type": "stream",
     "text": [
      "Configuration loaded successfully! ✅\n",
      "<class 'dict'>\n",
      "{'model': 'Resnet', 'optimizer': 'Adam', 'epochs': 40, 'lr': '1e-3', 'weight_decay': 0.01}\n"
     ]
    }
   ],
   "source": [
    "import yaml\n",
    "\n",
    "file_path = \"notebooks/config.yaml\"\n",
    "\n",
    "with open(file_path, 'r') as file:\n",
    "\n",
    "    config =  yaml.safe_load(file)\n",
    "\n",
    "    print(\"Configuration loaded successfully! ✅\")\n",
    "    print(type(config))\n",
    "    print(config)"
   ]
  },
  {
   "cell_type": "markdown",
   "id": "866e15e9",
   "metadata": {},
   "source": [
    "### Custom CNN"
   ]
  },
  {
   "cell_type": "code",
   "execution_count": 43,
   "id": "832963c5",
   "metadata": {},
   "outputs": [
    {
     "name": "stdout",
     "output_type": "stream",
     "text": [
      "[01] train_loss=0.2813 acc=0.8679 | val_loss=0.2272 acc=0.8978 | 10.7s\n",
      "[02] train_loss=0.2727 acc=0.8899 | val_loss=0.2872 acc=0.9032 | 9.3s\n",
      "[03] train_loss=0.2648 acc=0.8878 | val_loss=0.2190 acc=0.9140 | 9.0s\n",
      "[04] train_loss=0.2602 acc=0.8941 | val_loss=0.2378 acc=0.8978 | 8.6s\n",
      "[05] train_loss=0.2511 acc=0.8994 | val_loss=0.2613 acc=0.9032 | 9.2s\n",
      "[06] train_loss=0.2604 acc=0.8941 | val_loss=0.2544 acc=0.8978 | 13.6s\n",
      "[07] train_loss=0.2555 acc=0.8899 | val_loss=0.2445 acc=0.8817 | 8.8s\n",
      "[08] train_loss=0.2644 acc=0.8920 | val_loss=0.2702 acc=0.8871 | 8.9s\n",
      "[09] train_loss=0.2500 acc=0.9015 | val_loss=0.2756 acc=0.9032 | 8.4s\n",
      "[10] train_loss=0.2818 acc=0.8826 | val_loss=0.2829 acc=0.8656 | 8.3s\n",
      "[11] train_loss=0.2540 acc=0.9036 | val_loss=0.2532 acc=0.9032 | 8.2s\n",
      "[12] train_loss=0.2484 acc=0.9004 | val_loss=0.3201 acc=0.8656 | 8.1s\n",
      "[13] train_loss=0.2522 acc=0.8910 | val_loss=0.2220 acc=0.8925 | 8.5s\n",
      "[14] train_loss=0.2477 acc=0.9015 | val_loss=0.3052 acc=0.8656 | 8.4s\n",
      "[15] train_loss=0.2610 acc=0.8868 | val_loss=0.2978 acc=0.8656 | 9.0s\n",
      "[16] train_loss=0.2531 acc=0.8973 | val_loss=0.2434 acc=0.8871 | 8.4s\n",
      "[17] train_loss=0.2436 acc=0.8994 | val_loss=0.2197 acc=0.9032 | 8.2s\n",
      "[18] train_loss=0.2553 acc=0.8889 | val_loss=0.2654 acc=0.9032 | 8.5s\n",
      "[19] train_loss=0.2723 acc=0.8868 | val_loss=0.2602 acc=0.8978 | 8.4s\n",
      "[20] train_loss=0.2628 acc=0.8868 | val_loss=0.2645 acc=0.8656 | 8.4s\n",
      "[21] train_loss=0.2684 acc=0.8847 | val_loss=0.2313 acc=0.9247 | 8.2s\n",
      "[22] train_loss=0.2527 acc=0.8899 | val_loss=0.2667 acc=0.8978 | 9.2s\n",
      "[23] train_loss=0.2635 acc=0.8847 | val_loss=0.2682 acc=0.8871 | 8.2s\n",
      "[24] train_loss=0.2366 acc=0.8994 | val_loss=0.2774 acc=0.8978 | 8.3s\n",
      "[25] train_loss=0.2611 acc=0.8826 | val_loss=0.2334 acc=0.9301 | 8.1s\n",
      "[26] train_loss=0.2490 acc=0.8962 | val_loss=0.2243 acc=0.8978 | 8.2s\n",
      "[27] train_loss=0.2502 acc=0.9004 | val_loss=0.2865 acc=0.8656 | 8.6s\n",
      "[28] train_loss=0.2823 acc=0.8836 | val_loss=0.3246 acc=0.8710 | 8.4s\n",
      "[29] train_loss=0.2530 acc=0.8910 | val_loss=0.2872 acc=0.9032 | 8.6s\n",
      "[30] train_loss=0.2477 acc=0.8994 | val_loss=0.2825 acc=0.8763 | 8.5s\n",
      "[31] train_loss=0.2543 acc=0.8931 | val_loss=0.3639 acc=0.8495 | 8.4s\n",
      "[32] train_loss=0.2511 acc=0.8973 | val_loss=0.2091 acc=0.9086 | 8.1s\n",
      "[33] train_loss=0.2571 acc=0.8878 | val_loss=0.2471 acc=0.9194 | 8.3s\n",
      "[34] train_loss=0.2386 acc=0.9004 | val_loss=0.2768 acc=0.9086 | 8.4s\n",
      "[35] train_loss=0.2455 acc=0.8962 | val_loss=0.2075 acc=0.9086 | 8.5s\n",
      "[36] train_loss=0.2516 acc=0.8910 | val_loss=0.2918 acc=0.8710 | 8.5s\n",
      "[37] train_loss=0.2293 acc=0.9025 | val_loss=0.2563 acc=0.8817 | 8.7s\n",
      "[38] train_loss=0.2375 acc=0.9119 | val_loss=0.2772 acc=0.8817 | 8.8s\n",
      "[39] train_loss=0.2511 acc=0.8983 | val_loss=0.3248 acc=0.8656 | 8.2s\n",
      "[40] train_loss=0.2341 acc=0.9099 | val_loss=0.2704 acc=0.8925 | 8.3s\n"
     ]
    }
   ],
   "source": [
    "\n",
    "with mlflow.start_run(run_name='Custom_CNN_Test_v4'):\n",
    "\n",
    "    # logging model parameters\n",
    "\n",
    "    mlflow.log_params(config)\n",
    "    \n",
    "\n",
    "    # model training\n",
    "    model, history = fit(small_cnn, loaders, epochs=config['epochs'], lr=float(config['lr']), weight_decay=config['weight_decay'])\n",
    "\n",
    "\n",
    "    # logging metrics (using 'history')\n",
    "    for entry in history:\n",
    "        epoch = entry['epoch']\n",
    "        mlflow.log_metric('train_loss', entry['train_loss'], step=epoch)\n",
    "        mlflow.log_metric('train_acc', entry['train_acc'], step=epoch)\n",
    "        mlflow.log_metric('val_loss', entry['val_loss'], step=epoch)\n",
    "        mlflow.log_metric('val_acc', entry['val_acc'], step=epoch)\n",
    "\n",
    "\n",
    "    # evaluating model on test data\n",
    "    crit = nn.CrossEntropyLoss()\n",
    "    test_loss, test_acc, y_true, y_pred = evaluate(small_cnn, loaders[\"test\"], crit, device)        \n",
    "    mlflow.log_metrics({\"test_loss\": test_loss, \"test_acc\": test_acc})\n"
   ]
  },
  {
   "cell_type": "code",
   "execution_count": 47,
   "id": "58897279",
   "metadata": {},
   "outputs": [
    {
     "name": "stdout",
     "output_type": "stream",
     "text": [
      "SmallCNN\n"
     ]
    }
   ],
   "source": [
    "arch=small_cnn.__class__.__name__\n",
    "\n",
    "print(arch)"
   ]
  },
  {
   "cell_type": "code",
   "execution_count": 24,
   "id": "c3b2f6b3",
   "metadata": {},
   "outputs": [
    {
     "name": "stdout",
     "output_type": "stream",
     "text": [
      "Small_CNN Test: loss=0.4681, acc=0.7870 \n",
      "\n",
      "              precision    recall  f1-score   support\n",
      "\n",
      "           0     0.7821    0.9524    0.8589       147\n",
      "           1     0.8108    0.4348    0.5660        69\n",
      "\n",
      "    accuracy                         0.7870       216\n",
      "   macro avg     0.7965    0.6936    0.7125       216\n",
      "weighted avg     0.7913    0.7870    0.7653       216\n",
      "\n"
     ]
    },
    {
     "data": {
      "image/png": "[encoded data removed]",
      "text/plain": [
       "<Figure size 400x300 with 2 Axes>"
      ]
     },
     "metadata": {},
     "output_type": "display_data"
    }
   ],
   "source": [
    "\n",
    "print(f\"Small_CNN Test: loss={test_loss:.4f}, acc={test_acc:.4f} \\n\")\n",
    "print(classification_report(y_true, y_pred, digits=4))\n",
    "\n",
    "# Plot confusion matrix as heatmap\n",
    "\n",
    "cm = confusion_matrix(y_true, y_pred)\n",
    "\n",
    "plt.figure(figsize=(4, 3))\n",
    "sns.heatmap(cm, annot=True, fmt=\"d\", cmap=\"Blues\")\n",
    "\n",
    "\n",
    "plt.xlabel(\"Predicted Label\")\n",
    "plt.ylabel(\"True Label\")\n",
    "plt.title(\"Confusion Matrix\")\n",
    "plt.show()\n",
    "\n"
   ]
  },
  {
   "cell_type": "markdown",
   "id": "ad1f646f",
   "metadata": {},
   "source": [
    "### ResNet"
   ]
  },
  {
   "cell_type": "code",
   "execution_count": 25,
   "id": "90827e47",
   "metadata": {},
   "outputs": [
    {
     "data": {
      "text/plain": [
       "ResNet(\n",
       "  (conv1): Conv2d(3, 64, kernel_size=(7, 7), stride=(2, 2), padding=(3, 3), bias=False)\n",
       "  (bn1): BatchNorm2d(64, eps=1e-05, momentum=0.1, affine=True, track_running_stats=True)\n",
       "  (relu): ReLU(inplace=True)\n",
       "  (maxpool): MaxPool2d(kernel_size=3, stride=2, padding=1, dilation=1, ceil_mode=False)\n",
       "  (layer1): Sequential(\n",
       "    (0): BasicBlock(\n",
       "      (conv1): Conv2d(64, 64, kernel_size=(3, 3), stride=(1, 1), padding=(1, 1), bias=False)\n",
       "      (bn1): BatchNorm2d(64, eps=1e-05, momentum=0.1, affine=True, track_running_stats=True)\n",
       "      (relu): ReLU(inplace=True)\n",
       "      (conv2): Conv2d(64, 64, kernel_size=(3, 3), stride=(1, 1), padding=(1, 1), bias=False)\n",
       "      (bn2): BatchNorm2d(64, eps=1e-05, momentum=0.1, affine=True, track_running_stats=True)\n",
       "    )\n",
       "    (1): BasicBlock(\n",
       "      (conv1): Conv2d(64, 64, kernel_size=(3, 3), stride=(1, 1), padding=(1, 1), bias=False)\n",
       "      (bn1): BatchNorm2d(64, eps=1e-05, momentum=0.1, affine=True, track_running_stats=True)\n",
       "      (relu): ReLU(inplace=True)\n",
       "      (conv2): Conv2d(64, 64, kernel_size=(3, 3), stride=(1, 1), padding=(1, 1), bias=False)\n",
       "      (bn2): BatchNorm2d(64, eps=1e-05, momentum=0.1, affine=True, track_running_stats=True)\n",
       "    )\n",
       "  )\n",
       "  (layer2): Sequential(\n",
       "    (0): BasicBlock(\n",
       "      (conv1): Conv2d(64, 128, kernel_size=(3, 3), stride=(2, 2), padding=(1, 1), bias=False)\n",
       "      (bn1): BatchNorm2d(128, eps=1e-05, momentum=0.1, affine=True, track_running_stats=True)\n",
       "      (relu): ReLU(inplace=True)\n",
       "      (conv2): Conv2d(128, 128, kernel_size=(3, 3), stride=(1, 1), padding=(1, 1), bias=False)\n",
       "      (bn2): BatchNorm2d(128, eps=1e-05, momentum=0.1, affine=True, track_running_stats=True)\n",
       "      (downsample): Sequential(\n",
       "        (0): Conv2d(64, 128, kernel_size=(1, 1), stride=(2, 2), bias=False)\n",
       "        (1): BatchNorm2d(128, eps=1e-05, momentum=0.1, affine=True, track_running_stats=True)\n",
       "      )\n",
       "    )\n",
       "    (1): BasicBlock(\n",
       "      (conv1): Conv2d(128, 128, kernel_size=(3, 3), stride=(1, 1), padding=(1, 1), bias=False)\n",
       "      (bn1): BatchNorm2d(128, eps=1e-05, momentum=0.1, affine=True, track_running_stats=True)\n",
       "      (relu): ReLU(inplace=True)\n",
       "      (conv2): Conv2d(128, 128, kernel_size=(3, 3), stride=(1, 1), padding=(1, 1), bias=False)\n",
       "      (bn2): BatchNorm2d(128, eps=1e-05, momentum=0.1, affine=True, track_running_stats=True)\n",
       "    )\n",
       "  )\n",
       "  (layer3): Sequential(\n",
       "    (0): BasicBlock(\n",
       "      (conv1): Conv2d(128, 256, kernel_size=(3, 3), stride=(2, 2), padding=(1, 1), bias=False)\n",
       "      (bn1): BatchNorm2d(256, eps=1e-05, momentum=0.1, affine=True, track_running_stats=True)\n",
       "      (relu): ReLU(inplace=True)\n",
       "      (conv2): Conv2d(256, 256, kernel_size=(3, 3), stride=(1, 1), padding=(1, 1), bias=False)\n",
       "      (bn2): BatchNorm2d(256, eps=1e-05, momentum=0.1, affine=True, track_running_stats=True)\n",
       "      (downsample): Sequential(\n",
       "        (0): Conv2d(128, 256, kernel_size=(1, 1), stride=(2, 2), bias=False)\n",
       "        (1): BatchNorm2d(256, eps=1e-05, momentum=0.1, affine=True, track_running_stats=True)\n",
       "      )\n",
       "    )\n",
       "    (1): BasicBlock(\n",
       "      (conv1): Conv2d(256, 256, kernel_size=(3, 3), stride=(1, 1), padding=(1, 1), bias=False)\n",
       "      (bn1): BatchNorm2d(256, eps=1e-05, momentum=0.1, affine=True, track_running_stats=True)\n",
       "      (relu): ReLU(inplace=True)\n",
       "      (conv2): Conv2d(256, 256, kernel_size=(3, 3), stride=(1, 1), padding=(1, 1), bias=False)\n",
       "      (bn2): BatchNorm2d(256, eps=1e-05, momentum=0.1, affine=True, track_running_stats=True)\n",
       "    )\n",
       "  )\n",
       "  (layer4): Sequential(\n",
       "    (0): BasicBlock(\n",
       "      (conv1): Conv2d(256, 512, kernel_size=(3, 3), stride=(2, 2), padding=(1, 1), bias=False)\n",
       "      (bn1): BatchNorm2d(512, eps=1e-05, momentum=0.1, affine=True, track_running_stats=True)\n",
       "      (relu): ReLU(inplace=True)\n",
       "      (conv2): Conv2d(512, 512, kernel_size=(3, 3), stride=(1, 1), padding=(1, 1), bias=False)\n",
       "      (bn2): BatchNorm2d(512, eps=1e-05, momentum=0.1, affine=True, track_running_stats=True)\n",
       "      (downsample): Sequential(\n",
       "        (0): Conv2d(256, 512, kernel_size=(1, 1), stride=(2, 2), bias=False)\n",
       "        (1): BatchNorm2d(512, eps=1e-05, momentum=0.1, affine=True, track_running_stats=True)\n",
       "      )\n",
       "    )\n",
       "    (1): BasicBlock(\n",
       "      (conv1): Conv2d(512, 512, kernel_size=(3, 3), stride=(1, 1), padding=(1, 1), bias=False)\n",
       "      (bn1): BatchNorm2d(512, eps=1e-05, momentum=0.1, affine=True, track_running_stats=True)\n",
       "      (relu): ReLU(inplace=True)\n",
       "      (conv2): Conv2d(512, 512, kernel_size=(3, 3), stride=(1, 1), padding=(1, 1), bias=False)\n",
       "      (bn2): BatchNorm2d(512, eps=1e-05, momentum=0.1, affine=True, track_running_stats=True)\n",
       "    )\n",
       "  )\n",
       "  (avgpool): AdaptiveAvgPool2d(output_size=(1, 1))\n",
       "  (fc): Linear(in_features=512, out_features=2, bias=True)\n",
       ")"
      ]
     },
     "execution_count": 25,
     "metadata": {},
     "output_type": "execute_result"
    }
   ],
   "source": [
    "from torchvision import models\n",
    "\n",
    "# PyTorch 2.x API: use \"weights\" for pretrained\n",
    "resnet = models.resnet18(weights=models.ResNet18_Weights.IMAGENET1K_V1)\n",
    "\n",
    "# Replace final layer for 2 classes\n",
    "in_feats = resnet.fc.in_features\n",
    "resnet.fc = nn.Linear(in_feats, 2)\n",
    "\n",
    "# Option 1 (recommended to start): fine-tune ALL layers\n",
    "for p in resnet.parameters():\n",
    "    p.requires_grad = True\n",
    "\n",
    "resnet.to(device)\n",
    "resnet\n"
   ]
  },
  {
   "cell_type": "code",
   "execution_count": 32,
   "id": "7e21c9f3",
   "metadata": {},
   "outputs": [
    {
     "name": "stdout",
     "output_type": "stream",
     "text": [
      "[01] train_loss=0.2385 acc=0.9140 | val_loss=0.1376 acc=0.9516 | 21.7s\n",
      "[02] train_loss=0.1730 acc=0.9319 | val_loss=0.1380 acc=0.9301 | 13.8s\n",
      "[03] train_loss=0.1512 acc=0.9507 | val_loss=0.2843 acc=0.8387 | 14.5s\n",
      "[04] train_loss=0.1355 acc=0.9518 | val_loss=0.2333 acc=0.9462 | 19.3s\n",
      "[05] train_loss=0.1213 acc=0.9570 | val_loss=0.4635 acc=0.8602 | 15.2s\n",
      "[06] train_loss=0.1637 acc=0.9423 | val_loss=0.4575 acc=0.8172 | 13.3s\n",
      "[07] train_loss=0.1740 acc=0.9319 | val_loss=0.4242 acc=0.8817 | 13.1s\n",
      "[08] train_loss=0.2304 acc=0.9078 | val_loss=0.1102 acc=0.9677 | 13.4s\n",
      "[09] train_loss=0.1539 acc=0.9423 | val_loss=0.1611 acc=0.9409 | 13.2s\n",
      "[10] train_loss=0.1380 acc=0.9507 | val_loss=0.1922 acc=0.9462 | 13.1s\n",
      "[11] train_loss=0.1515 acc=0.9382 | val_loss=0.0615 acc=0.9731 | 13.4s\n",
      "[12] train_loss=0.1138 acc=0.9654 | val_loss=0.2266 acc=0.9462 | 13.5s\n",
      "[13] train_loss=0.0996 acc=0.9602 | val_loss=0.0839 acc=0.9731 | 13.7s\n",
      "[14] train_loss=0.1181 acc=0.9528 | val_loss=0.1161 acc=0.9570 | 16.1s\n",
      "[15] train_loss=0.1206 acc=0.9497 | val_loss=0.1443 acc=0.9677 | 14.4s\n",
      "[16] train_loss=0.1034 acc=0.9602 | val_loss=0.0765 acc=0.9677 | 13.8s\n",
      "[17] train_loss=0.1263 acc=0.9549 | val_loss=0.0564 acc=0.9839 | 13.8s\n",
      "[18] train_loss=0.1152 acc=0.9570 | val_loss=0.1583 acc=0.9570 | 14.2s\n",
      "[19] train_loss=0.1448 acc=0.9455 | val_loss=0.1060 acc=0.9462 | 16.7s\n",
      "[20] train_loss=0.1121 acc=0.9581 | val_loss=0.0739 acc=0.9785 | 14.7s\n",
      "[21] train_loss=0.0979 acc=0.9612 | val_loss=0.1162 acc=0.9731 | 14.3s\n",
      "[22] train_loss=0.1025 acc=0.9612 | val_loss=0.1494 acc=0.9570 | 13.5s\n",
      "[23] train_loss=0.0883 acc=0.9654 | val_loss=0.1417 acc=0.9570 | 13.4s\n",
      "[24] train_loss=0.0952 acc=0.9644 | val_loss=0.2249 acc=0.9194 | 14.6s\n",
      "[25] train_loss=0.1091 acc=0.9623 | val_loss=0.2320 acc=0.9086 | 16.3s\n",
      "[26] train_loss=0.0725 acc=0.9748 | val_loss=0.0670 acc=0.9839 | 15.2s\n",
      "[27] train_loss=0.1120 acc=0.9675 | val_loss=0.0650 acc=0.9785 | 26.1s\n",
      "[28] train_loss=0.0663 acc=0.9759 | val_loss=0.0520 acc=0.9892 | 28.5s\n",
      "[29] train_loss=0.0803 acc=0.9686 | val_loss=0.1020 acc=0.9677 | 35.0s\n",
      "[30] train_loss=0.1075 acc=0.9602 | val_loss=0.3426 acc=0.9032 | 28.9s\n",
      "[31] train_loss=0.1599 acc=0.9329 | val_loss=0.0661 acc=0.9570 | 29.3s\n",
      "[32] train_loss=0.1282 acc=0.9518 | val_loss=0.1807 acc=0.9462 | 32.7s\n",
      "[33] train_loss=0.0821 acc=0.9727 | val_loss=0.0482 acc=0.9839 | 32.7s\n",
      "[34] train_loss=0.0702 acc=0.9801 | val_loss=0.1435 acc=0.9355 | 27.9s\n",
      "[35] train_loss=0.0752 acc=0.9748 | val_loss=0.1910 acc=0.9409 | 22.7s\n",
      "[36] train_loss=0.0924 acc=0.9654 | val_loss=0.4357 acc=0.8226 | 24.2s\n",
      "[37] train_loss=0.0731 acc=0.9717 | val_loss=0.0921 acc=0.9624 | 31.1s\n",
      "[38] train_loss=0.0926 acc=0.9633 | val_loss=0.0894 acc=0.9731 | 28.0s\n",
      "[39] train_loss=0.1181 acc=0.9539 | val_loss=0.1224 acc=0.9624 | 26.9s\n",
      "[40] train_loss=0.0901 acc=0.9748 | val_loss=0.0581 acc=0.9731 | 29.2s\n"
     ]
    }
   ],
   "source": [
    "with mlflow.start_run(run_name='Resnet_v3_40epochs'):\n",
    "\n",
    "    # logging model parameters\n",
    "\n",
    "    mlflow.log_params(config)\n",
    "    \n",
    "\n",
    "    # model training\n",
    "    model, history = fit(resnet, loaders, epochs=config['epochs'], lr=float(config['lr']), weight_decay=config['weight_decay'])\n",
    "\n",
    "\n",
    "    # logging metrics (using 'history')\n",
    "    for entry in history:\n",
    "        epoch = entry['epoch']\n",
    "        mlflow.log_metric('train_loss', entry['train_loss'], step=epoch)\n",
    "        mlflow.log_metric('train_acc', entry['train_acc'], step=epoch)\n",
    "        mlflow.log_metric('val_loss', entry['val_loss'], step=epoch)\n",
    "        mlflow.log_metric('val_acc', entry['val_acc'], step=epoch)\n",
    "\n",
    "\n",
    "    # evaluating model on test data\n",
    "    crit = nn.CrossEntropyLoss()\n",
    "    test_loss, test_acc, y_true, y_pred = evaluate(resnet, loaders[\"test\"], crit, device)        \n",
    "    mlflow.log_metrics({\"test_loss\": test_loss, \"test_acc\": test_acc})"
   ]
  },
  {
   "cell_type": "code",
   "execution_count": 33,
   "id": "657be490",
   "metadata": {},
   "outputs": [
    {
     "name": "stdout",
     "output_type": "stream",
     "text": [
      "ResNet18 Test: loss=0.1374, acc=0.9444\n",
      "              precision    recall  f1-score   support\n",
      "\n",
      "           0     0.9530    0.9660    0.9595       147\n",
      "           1     0.9254    0.8986    0.9118        69\n",
      "\n",
      "    accuracy                         0.9444       216\n",
      "   macro avg     0.9392    0.9323    0.9356       216\n",
      "weighted avg     0.9442    0.9444    0.9442       216\n",
      "\n"
     ]
    },
    {
     "data": {
      "image/png": "[encoded data removed]",
      "text/plain": [
       "<Figure size 400x300 with 2 Axes>"
      ]
     },
     "metadata": {},
     "output_type": "display_data"
    }
   ],
   "source": [
    "crit = nn.CrossEntropyLoss()\n",
    "test_loss, test_acc, y_true, y_pred = evaluate(resnet, loaders[\"test\"], crit, device)\n",
    "print(f\"ResNet18 Test: loss={test_loss:.4f}, acc={test_acc:.4f}\")\n",
    "print(classification_report(y_true, y_pred, digits=4))\n",
    "\n",
    "# print(\"Confusion matrix:\\n\", confusion_matrix(y_true, y_pred))\n",
    "cm = confusion_matrix(y_true, y_pred)\n",
    "\n",
    "\n",
    "plt.figure(figsize=(4, 3))\n",
    "sns.heatmap(cm, annot=True, fmt=\"d\", cmap=\"Blues\")\n",
    "\n",
    "\n",
    "plt.xlabel(\"Predicted Label\")\n",
    "plt.ylabel(\"True Label\")\n",
    "plt.title(\"Confusion Matrix\")\n",
    "plt.show()"
   ]
  },
  {
   "cell_type": "code",
   "execution_count": null,
   "id": "ee686264",
   "metadata": {},
   "outputs": [],
   "source": []
  }
 ],
 "metadata": {
  "kernelspec": {
   "display_name": "lego-mlops",
   "language": "python",
   "name": "python3"
  },
  "language_info": {
   "codemirror_mode": {
    "name": "ipython",
    "version": 3
   },
   "file_extension": ".py",
   "mimetype": "text/x-python",
   "name": "python",
   "nbconvert_exporter": "python",
   "pygments_lexer": "ipython3",
   "version": "3.11.13"
  }
 },
 "nbformat": 4,
 "nbformat_minor": 5
}
