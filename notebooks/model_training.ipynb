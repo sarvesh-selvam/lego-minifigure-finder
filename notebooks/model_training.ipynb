{
 "cells": [
  {
   "cell_type": "markdown",
   "id": "81bd7e2b",
   "metadata": {},
   "source": [
    "# Model Training\n",
    "\n",
    "This notebook this trains and explores various machine learning models"
   ]
  },
  {
   "cell_type": "markdown",
   "id": "02a6543a",
   "metadata": {},
   "source": [
    "## Data Processing & Loading"
   ]
  },
  {
   "cell_type": "code",
   "execution_count": 1,
   "id": "49c58462",
   "metadata": {},
   "outputs": [
    {
     "name": "stdout",
     "output_type": "stream",
     "text": [
      "Working directory set to: /Users/sarvesh/Desktop/GitHub/lego-minifigure-finder\n"
     ]
    }
   ],
   "source": [
    "# src/data.py\n",
    "\n",
    "import os\n",
    "from pathlib import Path\n",
    "\n",
    "import pandas as pd\n",
    "from PIL import Image\n",
    "import torch\n",
    "from torch.utils.data import Dataset, DataLoader\n",
    "from torchvision import transforms as T\n",
    "\n",
    "\n",
    "# move up one level from the current directory\n",
    "os.chdir(Path.cwd().parent)\n",
    "\n",
    "print(\"Working directory set to:\", Path.cwd())"
   ]
  },
  {
   "cell_type": "code",
   "execution_count": 2,
   "id": "fe61de76",
   "metadata": {},
   "outputs": [],
   "source": [
    "IMAGENET_MEAN = [0.485, 0.456, 0.406]\n",
    "IMAGENET_STD  = [0.229, 0.224, 0.225]\n",
    "\n",
    "\n",
    "\n",
    "def _tfms(image_size=224):\n",
    "    train = T.Compose([\n",
    "        T.Resize(int(image_size * 1.14)),\n",
    "        T.RandomResizedCrop(image_size, scale=(0.8, 1.0)),\n",
    "        T.RandomHorizontalFlip(p=0.5),\n",
    "        T.ToTensor(),\n",
    "        T.Normalize(IMAGENET_MEAN, IMAGENET_STD),\n",
    "    ])\n",
    "    eval_ = T.Compose([\n",
    "        T.Resize(int(image_size * 1.14)),\n",
    "        T.CenterCrop(image_size),\n",
    "        T.ToTensor(),\n",
    "        T.Normalize(IMAGENET_MEAN, IMAGENET_STD),\n",
    "    ])\n",
    "    return {\"train\": train, \"val\": eval_, \"test\": eval_}\n",
    "\n",
    "\n",
    "\n",
    "class CSVDataset(Dataset):\n",
    "    def __init__(self, csv_path, img_dir, transforms=None):\n",
    "        self.df = pd.read_csv(csv_path)\n",
    "        if not {\"filename\",\"label\"}.issubset(self.df.columns):\n",
    "            raise ValueError(f\"{csv_path} must have 'filename' and 'label' columns.\")\n",
    "        self.img_dir = img_dir\n",
    "        self.transforms = transforms\n",
    "\n",
    "    def __len__(self): return len(self.df)\n",
    "\n",
    "    def __getitem__(self, idx):\n",
    "        row = self.df.iloc[idx]\n",
    "        path = os.path.join(self.img_dir, str(row[\"filename\"]))\n",
    "        img = Image.open(path).convert(\"RGB\")\n",
    "        y = int(row[\"label\"])\n",
    "        if self.transforms: img = self.transforms(img)\n",
    "        return img, y\n",
    "\n",
    "\n",
    "\n",
    "def make_loaders(\n",
    "    data_dir=\"data\",\n",
    "    images_subdir=\"images\",\n",
    "    batch_size=32,\n",
    "    num_workers=0,         # macOS: start at 0; bump later if stable\n",
    "    image_size=224,\n",
    "):\n",
    "    csvs = {\n",
    "        \"train\": os.path.join(data_dir, \"train.csv\"),\n",
    "        \"val\":   os.path.join(data_dir, \"val.csv\"),\n",
    "        \"test\":  os.path.join(data_dir, \"test.csv\"),\n",
    "    }\n",
    "    img_dir = os.path.join(data_dir, images_subdir)\n",
    "    tf = _tfms(image_size)\n",
    "\n",
    "    ds = {\n",
    "        split: CSVDataset(csvs[split], img_dir, transforms=tf[\"train\" if split==\"train\" else \"val\"])\n",
    "        for split in [\"train\",\"val\",\"test\"]\n",
    "    }\n",
    "\n",
    "    loaders = {\n",
    "        \"train\": DataLoader(ds[\"train\"], batch_size=batch_size, shuffle=True,\n",
    "                            num_workers=num_workers),\n",
    "        \"val\":   DataLoader(ds[\"val\"], batch_size=batch_size, shuffle=False,\n",
    "                            num_workers=num_workers),\n",
    "        \"test\":  DataLoader(ds[\"test\"], batch_size=batch_size, shuffle=False,\n",
    "                            num_workers=num_workers),\n",
    "    }\n",
    "    return loaders"
   ]
  },
  {
   "cell_type": "code",
   "execution_count": 3,
   "id": "1fd42d0a",
   "metadata": {},
   "outputs": [
    {
     "name": "stdout",
     "output_type": "stream",
     "text": [
      "torch.Size([16, 3, 224, 224]) tensor([0, 0, 0, 1, 1, 0, 1, 0])\n"
     ]
    }
   ],
   "source": [
    "data_dir = \"data\"\n",
    "\n",
    "loaders = make_loaders(data_dir=data_dir, images_subdir=\"images\", batch_size=16)\n",
    "imgs, labels = next(iter(loaders[\"train\"]))\n",
    "print(imgs.shape, labels[:8])"
   ]
  },
  {
   "cell_type": "markdown",
   "id": "0e3f3c45",
   "metadata": {},
   "source": [
    "## Model Training"
   ]
  },
  {
   "cell_type": "code",
   "execution_count": 4,
   "id": "a6f3a496",
   "metadata": {},
   "outputs": [],
   "source": [
    "import time\n",
    "\n",
    "import pandas as pd\n",
    "import seaborn as sns\n",
    "import matplotlib.pyplot as plt         # plots can be saved as artifacts\n",
    "import numpy as np\n",
    "\n",
    "\n",
    "import torch\n",
    "from torch import nn, optim\n",
    "from torch.utils.data import DataLoader\n",
    "from sklearn.metrics import accuracy_score, classification_report, confusion_matrix\n",
    "\n",
    "\n",
    "import mlflow\n",
    "import mlflow.pytorch                  # for logging PyTorch models"
   ]
  },
  {
   "cell_type": "code",
   "execution_count": 5,
   "id": "6b3e5f07",
   "metadata": {},
   "outputs": [],
   "source": [
    "from mlflow import MlflowClient\n",
    "\n",
    "client = MlflowClient(tracking_uri=\"http://127.0.0.1:5001\")"
   ]
  },
  {
   "cell_type": "code",
   "execution_count": 6,
   "id": "2840a246",
   "metadata": {},
   "outputs": [
    {
     "data": {
      "text/plain": [
       "device(type='mps')"
      ]
     },
     "execution_count": 6,
     "metadata": {},
     "output_type": "execute_result"
    }
   ],
   "source": [
    "# Use CUDA if available; otherwise prefer Apple MPS if present; else CPU.\n",
    "if torch.cuda.is_available():\n",
    "    device = torch.device(\"cuda\")\n",
    "elif torch.backends.mps.is_available():\n",
    "    device = torch.device(\"mps\")\n",
    "else:\n",
    "    device = torch.device(\"cpu\")\n",
    "device\n"
   ]
  },
  {
   "cell_type": "code",
   "execution_count": 7,
   "id": "9fcb1c0a",
   "metadata": {},
   "outputs": [
    {
     "name": "stdout",
     "output_type": "stream",
     "text": [
      "train 30 batches\n",
      "val 6 batches\n",
      "test 7 batches\n"
     ]
    }
   ],
   "source": [
    "# # If you created make_loaders earlier:\n",
    "# try:\n",
    "#     from src.data import make_loaders\n",
    "# except Exception:\n",
    "#     # Fallback: assume data.py at repo root\n",
    "#     from data import make_loaders\n",
    "\n",
    "# Build loaders\n",
    "loaders = make_loaders(\n",
    "    data_dir=\"data\",\n",
    "    images_subdir=\"images\",\n",
    "    batch_size=32,\n",
    "    num_workers=0,          # bump to 2-4 later if stable\n",
    "    image_size=224\n",
    ")\n",
    "\n",
    "for k,v in loaders.items():\n",
    "    print(k, len(v), \"batches\")\n"
   ]
  },
  {
   "cell_type": "code",
   "execution_count": 8,
   "id": "811de34e",
   "metadata": {},
   "outputs": [],
   "source": [
    "def set_seed(seed: int = 27):\n",
    "    import random, numpy as np, torch\n",
    "    random.seed(seed)\n",
    "    np.random.seed(seed)\n",
    "    torch.manual_seed(seed)\n",
    "    if torch.cuda.is_available():\n",
    "        torch.cuda.manual_seed_all(seed)\n",
    "\n",
    "set_seed(27)\n",
    "\n",
    "\n",
    "\n",
    "\n",
    "def train_one_epoch(model, loader, criterion, optimizer, device):\n",
    "    model.train()\n",
    "    running_loss = 0.0\n",
    "    preds_all, y_all = [], []\n",
    "\n",
    "    for imgs, y in loader:\n",
    "        imgs = imgs.to(device)\n",
    "        y = y.to(device)\n",
    "\n",
    "        optimizer.zero_grad()\n",
    "        logits = model(imgs)\n",
    "        loss = criterion(logits, y)\n",
    "        loss.backward()\n",
    "        optimizer.step()\n",
    "\n",
    "        running_loss += loss.item() * imgs.size(0)\n",
    "        preds = torch.argmax(logits, dim=1)\n",
    "        preds_all.append(preds.detach().cpu())\n",
    "        y_all.append(y.detach().cpu())\n",
    "\n",
    "    epoch_loss = running_loss / len(loader.dataset)\n",
    "    y_true = torch.cat(y_all).numpy()\n",
    "    y_pred = torch.cat(preds_all).numpy()\n",
    "    epoch_acc = accuracy_score(y_true, y_pred)\n",
    "    return epoch_loss, epoch_acc\n",
    "\n",
    "\n",
    "\n",
    "\n",
    "@torch.no_grad()\n",
    "def evaluate(model, loader, criterion, device):\n",
    "    model.eval()\n",
    "    running_loss = 0.0\n",
    "    preds_all, y_all = [], []\n",
    "\n",
    "    for imgs, y in loader:\n",
    "        imgs = imgs.to(device)\n",
    "        y = y.to(device)\n",
    "\n",
    "        logits = model(imgs)\n",
    "        loss = criterion(logits, y)\n",
    "        running_loss += loss.item() * imgs.size(0)\n",
    "\n",
    "        preds = torch.argmax(logits, dim=1)\n",
    "        preds_all.append(preds.detach().cpu())\n",
    "        y_all.append(y.detach().cpu())\n",
    "\n",
    "    epoch_loss = running_loss / len(loader.dataset)\n",
    "    y_true = torch.cat(y_all).numpy()\n",
    "    y_pred = torch.cat(preds_all).numpy()\n",
    "    epoch_acc = accuracy_score(y_true, y_pred)\n",
    "    return epoch_loss, epoch_acc, y_true, y_pred\n",
    "\n",
    "\n",
    "\n",
    "\n",
    "def fit(model, loaders, epochs, lr=1e-3, weight_decay=0.0):\n",
    "    \n",
    "    model.to(device)\n",
    "    criterion = nn.CrossEntropyLoss()\n",
    "    optimizer = optim.Adam(model.parameters(), lr=lr, weight_decay=weight_decay)\n",
    "\n",
    "    best_val_acc = -1\n",
    "    best_state = None\n",
    "    history = []\n",
    "\n",
    "    for epoch in range(1, epochs+1):\n",
    "        t0 = time.time()\n",
    "        tr_loss, tr_acc = train_one_epoch(model, loaders[\"train\"], criterion, optimizer, device)\n",
    "        va_loss, va_acc, _, _ = evaluate(model, loaders[\"val\"], criterion, device)\n",
    "        dt = time.time() - t0\n",
    "\n",
    "        history.append({\"epoch\": epoch, \"train_loss\": tr_loss, \"train_acc\": tr_acc,\n",
    "                        \"val_loss\": va_loss, \"val_acc\": va_acc, \"sec\": dt})\n",
    "        print(f\"[{epoch:02d}] \"\n",
    "              f\"train_loss={tr_loss:.4f} acc={tr_acc:.4f} | \"\n",
    "              f\"val_loss={va_loss:.4f} acc={va_acc:.4f} | {dt:.1f}s\")\n",
    "\n",
    "        if va_acc > best_val_acc:\n",
    "            best_val_acc = va_acc\n",
    "            best_state = {k: v.cpu() for k, v in model.state_dict().items()}\n",
    "\n",
    "    if best_state is not None:\n",
    "        model.load_state_dict(best_state)\n",
    "\n",
    "    return model, history\n"
   ]
  },
  {
   "cell_type": "markdown",
   "id": "1bb3119b",
   "metadata": {},
   "source": [
    "### Defining Custom CNN Model"
   ]
  },
  {
   "cell_type": "code",
   "execution_count": 9,
   "id": "e5905a0f",
   "metadata": {},
   "outputs": [
    {
     "data": {
      "text/plain": [
       "SmallCNN(\n",
       "  (features): Sequential(\n",
       "    (0): Conv2d(3, 32, kernel_size=(3, 3), stride=(2, 2), padding=(1, 1))\n",
       "    (1): BatchNorm2d(32, eps=1e-05, momentum=0.1, affine=True, track_running_stats=True)\n",
       "    (2): ReLU(inplace=True)\n",
       "    (3): Conv2d(32, 64, kernel_size=(3, 3), stride=(2, 2), padding=(1, 1))\n",
       "    (4): BatchNorm2d(64, eps=1e-05, momentum=0.1, affine=True, track_running_stats=True)\n",
       "    (5): ReLU(inplace=True)\n",
       "    (6): Conv2d(64, 128, kernel_size=(3, 3), stride=(2, 2), padding=(1, 1))\n",
       "    (7): BatchNorm2d(128, eps=1e-05, momentum=0.1, affine=True, track_running_stats=True)\n",
       "    (8): ReLU(inplace=True)\n",
       "    (9): Conv2d(128, 256, kernel_size=(3, 3), stride=(2, 2), padding=(1, 1))\n",
       "    (10): BatchNorm2d(256, eps=1e-05, momentum=0.1, affine=True, track_running_stats=True)\n",
       "    (11): ReLU(inplace=True)\n",
       "    (12): AdaptiveAvgPool2d(output_size=(1, 1))\n",
       "  )\n",
       "  (classifier): Sequential(\n",
       "    (0): Flatten(start_dim=1, end_dim=-1)\n",
       "    (1): Dropout(p=0.25, inplace=False)\n",
       "    (2): Linear(in_features=256, out_features=2, bias=True)\n",
       "  )\n",
       ")"
      ]
     },
     "execution_count": 9,
     "metadata": {},
     "output_type": "execute_result"
    }
   ],
   "source": [
    "class SmallCNN(nn.Module):\n",
    "    \"\"\"\n",
    "    Very small CNN for quick iteration.\n",
    "    Input: [B, 3, 224, 224] -> 2 classes\n",
    "    \"\"\"\n",
    "    def __init__(self, num_classes=2):\n",
    "        super().__init__()\n",
    "        self.features = nn.Sequential(\n",
    "            nn.Conv2d(3, 32, kernel_size=3, stride=2, padding=1),  # 112x112\n",
    "            nn.BatchNorm2d(32),\n",
    "            nn.ReLU(inplace=True),\n",
    "\n",
    "            nn.Conv2d(32, 64, kernel_size=3, stride=2, padding=1), # 56x56\n",
    "            nn.BatchNorm2d(64),\n",
    "            nn.ReLU(inplace=True),\n",
    "\n",
    "            nn.Conv2d(64, 128, kernel_size=3, stride=2, padding=1),# 28x28\n",
    "            nn.BatchNorm2d(128),\n",
    "            nn.ReLU(inplace=True),\n",
    "\n",
    "            nn.Conv2d(128, 256, kernel_size=3, stride=2, padding=1),# 14x14\n",
    "            nn.BatchNorm2d(256),\n",
    "            nn.ReLU(inplace=True),\n",
    "\n",
    "            nn.AdaptiveAvgPool2d((1,1))  # -> [B, 256, 1, 1]\n",
    "        )\n",
    "        self.classifier = nn.Sequential(\n",
    "            nn.Flatten(),\n",
    "            nn.Dropout(0.25),\n",
    "            nn.Linear(256, num_classes)\n",
    "        )\n",
    "\n",
    "    def forward(self, x):\n",
    "        x = self.features(x)\n",
    "        x = self.classifier(x)\n",
    "        return x\n",
    "\n",
    "small_cnn = SmallCNN(num_classes=2)\n",
    "small_cnn\n"
   ]
  },
  {
   "cell_type": "markdown",
   "id": "5adc539c",
   "metadata": {},
   "source": [
    "## Running Model"
   ]
  },
  {
   "cell_type": "code",
   "execution_count": 10,
   "id": "22212fc9",
   "metadata": {},
   "outputs": [
    {
     "name": "stderr",
     "output_type": "stream",
     "text": [
      "2025/10/05 21:46:42 INFO mlflow.tracking.fluent: Experiment with name 'lego-minifig-test' does not exist. Creating a new experiment.\n"
     ]
    },
    {
     "data": {
      "text/plain": [
       "<Experiment: artifact_location='/Users/sarvesh/Desktop/GitHub/lego-minifigure-finder/mlflow/224204562665859237', creation_time=1759718802742, experiment_id='224204562665859237', last_update_time=1759718802742, lifecycle_stage='active', name='lego-minifig-test', tags={}>"
      ]
     },
     "execution_count": 10,
     "metadata": {},
     "output_type": "execute_result"
    }
   ],
   "source": [
    "mlflow.set_tracking_uri(os.path.abspath(\"./mlflow\"))   # local folder for runs\n",
    "mlflow.set_experiment(\"lego-minifig-test\")"
   ]
  },
  {
   "cell_type": "code",
   "execution_count": 26,
   "id": "f157867f",
   "metadata": {},
   "outputs": [
    {
     "name": "stdout",
     "output_type": "stream",
     "text": [
      "Configuration loaded successfully! ✅\n",
      "<class 'dict'>\n",
      "{'epochs': 10, 'lr': '1e-3', 'weight_decay': 0.01, 'optimizer': 'Adam', 'model': 'Custom_CNN'}\n"
     ]
    }
   ],
   "source": [
    "import yaml\n",
    "\n",
    "file_path = \"notebooks/config.yaml\"\n",
    "\n",
    "with open(file_path, 'r') as file:\n",
    "\n",
    "    config =  yaml.safe_load(file)\n",
    "\n",
    "    print(\"Configuration loaded successfully! ✅\")\n",
    "    print(type(config))\n",
    "    print(config)"
   ]
  },
  {
   "cell_type": "code",
   "execution_count": null,
   "id": "832963c5",
   "metadata": {},
   "outputs": [
    {
     "name": "stdout",
     "output_type": "stream",
     "text": [
      "[01] train_loss=0.3726 acc=0.8480 | val_loss=0.2485 acc=0.8871 | 11.6s\n",
      "[02] train_loss=0.3473 acc=0.8459 | val_loss=0.2690 acc=0.8978 | 11.0s\n",
      "[03] train_loss=0.3488 acc=0.8564 | val_loss=0.3079 acc=0.8763 | 10.8s\n",
      "[04] train_loss=0.3280 acc=0.8532 | val_loss=0.3247 acc=0.8817 | 11.7s\n",
      "[05] train_loss=0.3165 acc=0.8669 | val_loss=0.3044 acc=0.8710 | 10.8s\n",
      "[06] train_loss=0.3334 acc=0.8522 | val_loss=0.2506 acc=0.8871 | 10.9s\n",
      "[07] train_loss=0.3116 acc=0.8616 | val_loss=0.2960 acc=0.8710 | 10.8s\n",
      "[08] train_loss=0.3499 acc=0.8512 | val_loss=0.3095 acc=0.8763 | 10.7s\n",
      "[09] train_loss=0.3147 acc=0.8585 | val_loss=0.3285 acc=0.8871 | 11.1s\n",
      "[10] train_loss=0.3059 acc=0.8564 | val_loss=0.2789 acc=0.8978 | 13.3s\n",
      "[11] train_loss=0.3096 acc=0.8679 | val_loss=0.2548 acc=0.8925 | 10.5s\n",
      "[12] train_loss=0.2825 acc=0.8795 | val_loss=0.3109 acc=0.8763 | 10.0s\n",
      "[13] train_loss=0.3100 acc=0.8637 | val_loss=0.2902 acc=0.8763 | 14.5s\n",
      "[14] train_loss=0.2995 acc=0.8637 | val_loss=0.2711 acc=0.9032 | 10.0s\n",
      "[15] train_loss=0.2970 acc=0.8669 | val_loss=0.2205 acc=0.9140 | 11.4s\n",
      "[16] train_loss=0.2669 acc=0.8763 | val_loss=0.2611 acc=0.8925 | 10.0s\n",
      "[17] train_loss=0.2841 acc=0.8795 | val_loss=0.2748 acc=0.8871 | 9.6s\n",
      "[18] train_loss=0.2850 acc=0.8868 | val_loss=0.2678 acc=0.8817 | 9.4s\n",
      "[19] train_loss=0.2820 acc=0.8774 | val_loss=0.2545 acc=0.9086 | 9.8s\n",
      "[20] train_loss=0.2786 acc=0.8753 | val_loss=0.2915 acc=0.8978 | 9.5s\n"
     ]
    }
   ],
   "source": [
    "\n",
    "with mlflow.start_run(run_name='Custom_CNN_Test_v2'):\n",
    "\n",
    "    # logging model parameters\n",
    "\n",
    "    mlflow.log_params(config)\n",
    "    \n",
    "    # mlflow.log_params({\n",
    "    #     \"epochs\": 20,\n",
    "    #     \"lr\": 1e-3,\n",
    "    #     \"weight_decay\": 0.01,\n",
    "    #     \"optimizer\": \"Adam\",\n",
    "    #     # \"model\": model.__class__.__name__,\n",
    "    # })\n",
    "\n",
    "    \n",
    "\n",
    "    # model training\n",
    "    model, history = fit(small_cnn, loaders, epochs=config['epochs'], lr=config['lr'], weight_decay=config['weight_decay'])\n",
    "\n",
    "\n",
    "    # logging metrics (using 'history')\n",
    "    for entry in history:\n",
    "        epoch = entry['epoch']\n",
    "        mlflow.log_metric('train_loss', entry['train_loss'], step=epoch)\n",
    "        mlflow.log_metric('train_acc', entry['train_acc'], step=epoch)\n",
    "        mlflow.log_metric('val_loss', entry['val_loss'], step=epoch)\n",
    "        mlflow.log_metric('val_acc', entry['val_acc'], step=epoch)\n",
    "\n",
    "\n",
    "    # evaluating model on test data\n",
    "    crit = nn.CrossEntropyLoss()\n",
    "    test_loss, test_acc, y_true, y_pred = evaluate(small_cnn, loaders[\"test\"], crit, device)        \n",
    "    mlflow.log_metrics({\"test_loss\": test_loss, \"test_acc\": test_acc})\n",
    "\n",
    "\n"
   ]
  },
  {
   "cell_type": "code",
   "execution_count": 12,
   "id": "c3b2f6b3",
   "metadata": {},
   "outputs": [
    {
     "name": "stdout",
     "output_type": "stream",
     "text": [
      "Small_CNN Test: loss=0.5988, acc=0.7546 \n",
      "\n",
      "              precision    recall  f1-score   support\n",
      "\n",
      "           0     0.7527    0.9524    0.8408       147\n",
      "           1     0.7667    0.3333    0.4646        69\n",
      "\n",
      "    accuracy                         0.7546       216\n",
      "   macro avg     0.7597    0.6429    0.6527       216\n",
      "weighted avg     0.7572    0.7546    0.7207       216\n",
      "\n"
     ]
    },
    {
     "data": {
      "image/png": "[encoded data removed]",
      "text/plain": [
       "<Figure size 400x300 with 2 Axes>"
      ]
     },
     "metadata": {},
     "output_type": "display_data"
    }
   ],
   "source": [
    "\n",
    "print(f\"Small_CNN Test: loss={test_loss:.4f}, acc={test_acc:.4f} \\n\")\n",
    "print(classification_report(y_true, y_pred, digits=4))\n",
    "\n",
    "# Plot confusion matrix as heatmap\n",
    "\n",
    "cm = confusion_matrix(y_true, y_pred)\n",
    "\n",
    "plt.figure(figsize=(4, 3))\n",
    "sns.heatmap(cm, annot=True, fmt=\"d\", cmap=\"Blues\")\n",
    "\n",
    "\n",
    "plt.xlabel(\"Predicted Label\")\n",
    "plt.ylabel(\"True Label\")\n",
    "plt.title(\"Confusion Matrix\")\n",
    "plt.show()\n",
    "\n"
   ]
  },
  {
   "cell_type": "code",
   "execution_count": null,
   "id": "57ac35e8",
   "metadata": {},
   "outputs": [],
   "source": [
    "import yaml\n",
    "\n",
    "with open('config.yaml', 'r') as file:\n",
    "    data = yaml.safe_load(file)\n",
    "# 'data' will now be a Python dictionary or list"
   ]
  },
  {
   "cell_type": "markdown",
   "id": "ad1f646f",
   "metadata": {},
   "source": [
    "### ResNet"
   ]
  },
  {
   "cell_type": "code",
   "execution_count": 39,
   "id": "90827e47",
   "metadata": {},
   "outputs": [
    {
     "data": {
      "text/plain": [
       "ResNet(\n",
       "  (conv1): Conv2d(3, 64, kernel_size=(7, 7), stride=(2, 2), padding=(3, 3), bias=False)\n",
       "  (bn1): BatchNorm2d(64, eps=1e-05, momentum=0.1, affine=True, track_running_stats=True)\n",
       "  (relu): ReLU(inplace=True)\n",
       "  (maxpool): MaxPool2d(kernel_size=3, stride=2, padding=1, dilation=1, ceil_mode=False)\n",
       "  (layer1): Sequential(\n",
       "    (0): BasicBlock(\n",
       "      (conv1): Conv2d(64, 64, kernel_size=(3, 3), stride=(1, 1), padding=(1, 1), bias=False)\n",
       "      (bn1): BatchNorm2d(64, eps=1e-05, momentum=0.1, affine=True, track_running_stats=True)\n",
       "      (relu): ReLU(inplace=True)\n",
       "      (conv2): Conv2d(64, 64, kernel_size=(3, 3), stride=(1, 1), padding=(1, 1), bias=False)\n",
       "      (bn2): BatchNorm2d(64, eps=1e-05, momentum=0.1, affine=True, track_running_stats=True)\n",
       "    )\n",
       "    (1): BasicBlock(\n",
       "      (conv1): Conv2d(64, 64, kernel_size=(3, 3), stride=(1, 1), padding=(1, 1), bias=False)\n",
       "      (bn1): BatchNorm2d(64, eps=1e-05, momentum=0.1, affine=True, track_running_stats=True)\n",
       "      (relu): ReLU(inplace=True)\n",
       "      (conv2): Conv2d(64, 64, kernel_size=(3, 3), stride=(1, 1), padding=(1, 1), bias=False)\n",
       "      (bn2): BatchNorm2d(64, eps=1e-05, momentum=0.1, affine=True, track_running_stats=True)\n",
       "    )\n",
       "  )\n",
       "  (layer2): Sequential(\n",
       "    (0): BasicBlock(\n",
       "      (conv1): Conv2d(64, 128, kernel_size=(3, 3), stride=(2, 2), padding=(1, 1), bias=False)\n",
       "      (bn1): BatchNorm2d(128, eps=1e-05, momentum=0.1, affine=True, track_running_stats=True)\n",
       "      (relu): ReLU(inplace=True)\n",
       "      (conv2): Conv2d(128, 128, kernel_size=(3, 3), stride=(1, 1), padding=(1, 1), bias=False)\n",
       "      (bn2): BatchNorm2d(128, eps=1e-05, momentum=0.1, affine=True, track_running_stats=True)\n",
       "      (downsample): Sequential(\n",
       "        (0): Conv2d(64, 128, kernel_size=(1, 1), stride=(2, 2), bias=False)\n",
       "        (1): BatchNorm2d(128, eps=1e-05, momentum=0.1, affine=True, track_running_stats=True)\n",
       "      )\n",
       "    )\n",
       "    (1): BasicBlock(\n",
       "      (conv1): Conv2d(128, 128, kernel_size=(3, 3), stride=(1, 1), padding=(1, 1), bias=False)\n",
       "      (bn1): BatchNorm2d(128, eps=1e-05, momentum=0.1, affine=True, track_running_stats=True)\n",
       "      (relu): ReLU(inplace=True)\n",
       "      (conv2): Conv2d(128, 128, kernel_size=(3, 3), stride=(1, 1), padding=(1, 1), bias=False)\n",
       "      (bn2): BatchNorm2d(128, eps=1e-05, momentum=0.1, affine=True, track_running_stats=True)\n",
       "    )\n",
       "  )\n",
       "  (layer3): Sequential(\n",
       "    (0): BasicBlock(\n",
       "      (conv1): Conv2d(128, 256, kernel_size=(3, 3), stride=(2, 2), padding=(1, 1), bias=False)\n",
       "      (bn1): BatchNorm2d(256, eps=1e-05, momentum=0.1, affine=True, track_running_stats=True)\n",
       "      (relu): ReLU(inplace=True)\n",
       "      (conv2): Conv2d(256, 256, kernel_size=(3, 3), stride=(1, 1), padding=(1, 1), bias=False)\n",
       "      (bn2): BatchNorm2d(256, eps=1e-05, momentum=0.1, affine=True, track_running_stats=True)\n",
       "      (downsample): Sequential(\n",
       "        (0): Conv2d(128, 256, kernel_size=(1, 1), stride=(2, 2), bias=False)\n",
       "        (1): BatchNorm2d(256, eps=1e-05, momentum=0.1, affine=True, track_running_stats=True)\n",
       "      )\n",
       "    )\n",
       "    (1): BasicBlock(\n",
       "      (conv1): Conv2d(256, 256, kernel_size=(3, 3), stride=(1, 1), padding=(1, 1), bias=False)\n",
       "      (bn1): BatchNorm2d(256, eps=1e-05, momentum=0.1, affine=True, track_running_stats=True)\n",
       "      (relu): ReLU(inplace=True)\n",
       "      (conv2): Conv2d(256, 256, kernel_size=(3, 3), stride=(1, 1), padding=(1, 1), bias=False)\n",
       "      (bn2): BatchNorm2d(256, eps=1e-05, momentum=0.1, affine=True, track_running_stats=True)\n",
       "    )\n",
       "  )\n",
       "  (layer4): Sequential(\n",
       "    (0): BasicBlock(\n",
       "      (conv1): Conv2d(256, 512, kernel_size=(3, 3), stride=(2, 2), padding=(1, 1), bias=False)\n",
       "      (bn1): BatchNorm2d(512, eps=1e-05, momentum=0.1, affine=True, track_running_stats=True)\n",
       "      (relu): ReLU(inplace=True)\n",
       "      (conv2): Conv2d(512, 512, kernel_size=(3, 3), stride=(1, 1), padding=(1, 1), bias=False)\n",
       "      (bn2): BatchNorm2d(512, eps=1e-05, momentum=0.1, affine=True, track_running_stats=True)\n",
       "      (downsample): Sequential(\n",
       "        (0): Conv2d(256, 512, kernel_size=(1, 1), stride=(2, 2), bias=False)\n",
       "        (1): BatchNorm2d(512, eps=1e-05, momentum=0.1, affine=True, track_running_stats=True)\n",
       "      )\n",
       "    )\n",
       "    (1): BasicBlock(\n",
       "      (conv1): Conv2d(512, 512, kernel_size=(3, 3), stride=(1, 1), padding=(1, 1), bias=False)\n",
       "      (bn1): BatchNorm2d(512, eps=1e-05, momentum=0.1, affine=True, track_running_stats=True)\n",
       "      (relu): ReLU(inplace=True)\n",
       "      (conv2): Conv2d(512, 512, kernel_size=(3, 3), stride=(1, 1), padding=(1, 1), bias=False)\n",
       "      (bn2): BatchNorm2d(512, eps=1e-05, momentum=0.1, affine=True, track_running_stats=True)\n",
       "    )\n",
       "  )\n",
       "  (avgpool): AdaptiveAvgPool2d(output_size=(1, 1))\n",
       "  (fc): Linear(in_features=512, out_features=2, bias=True)\n",
       ")"
      ]
     },
     "execution_count": 39,
     "metadata": {},
     "output_type": "execute_result"
    }
   ],
   "source": [
    "from torchvision import models\n",
    "\n",
    "# PyTorch 2.x API: use \"weights\" for pretrained\n",
    "resnet = models.resnet18(weights=models.ResNet18_Weights.IMAGENET1K_V1)\n",
    "\n",
    "# Replace final layer for 2 classes\n",
    "in_feats = resnet.fc.in_features\n",
    "resnet.fc = nn.Linear(in_feats, 2)\n",
    "\n",
    "# Option 1 (recommended to start): fine-tune ALL layers\n",
    "for p in resnet.parameters():\n",
    "    p.requires_grad = True\n",
    "\n",
    "resnet.to(device)\n",
    "resnet\n"
   ]
  },
  {
   "cell_type": "code",
   "execution_count": 40,
   "id": "7e21c9f3",
   "metadata": {},
   "outputs": [
    {
     "name": "stdout",
     "output_type": "stream",
     "text": [
      "[01] train_loss=0.1585 acc=0.9423 | val_loss=0.0259 acc=0.9892 | 14.3s\n",
      "[02] train_loss=0.0319 acc=0.9895 | val_loss=0.0232 acc=0.9892 | 13.5s\n",
      "[03] train_loss=0.0335 acc=0.9895 | val_loss=0.0033 acc=1.0000 | 14.0s\n",
      "[04] train_loss=0.0382 acc=0.9895 | val_loss=0.0252 acc=0.9892 | 13.5s\n",
      "[05] train_loss=0.0253 acc=0.9885 | val_loss=0.0075 acc=1.0000 | 13.3s\n"
     ]
    }
   ],
   "source": [
    "resnet, history_resnet = fit(\n",
    "    resnet,\n",
    "    loaders,\n",
    "    epochs=5,         # try 5–15; watch val accuracy\n",
    "    lr=3e-4,          # slightly smaller LR for pretrained nets\n",
    "    weight_decay=1e-4\n",
    ")\n"
   ]
  },
  {
   "cell_type": "code",
   "execution_count": 42,
   "id": "657be490",
   "metadata": {},
   "outputs": [
    {
     "name": "stdout",
     "output_type": "stream",
     "text": [
      "ResNet18 Test: loss=0.0318, acc=0.9907\n",
      "              precision    recall  f1-score   support\n",
      "\n",
      "           0     0.9932    0.9932    0.9932       147\n",
      "           1     0.9855    0.9855    0.9855        69\n",
      "\n",
      "    accuracy                         0.9907       216\n",
      "   macro avg     0.9894    0.9894    0.9894       216\n",
      "weighted avg     0.9907    0.9907    0.9907       216\n",
      "\n"
     ]
    },
    {
     "data": {
      "image/png": "[encoded data removed]",
      "text/plain": [
       "<Figure size 400x300 with 2 Axes>"
      ]
     },
     "metadata": {},
     "output_type": "display_data"
    }
   ],
   "source": [
    "crit = nn.CrossEntropyLoss()\n",
    "test_loss, test_acc, y_true, y_pred = evaluate(resnet, loaders[\"test\"], crit, device)\n",
    "print(f\"ResNet18 Test: loss={test_loss:.4f}, acc={test_acc:.4f}\")\n",
    "print(classification_report(y_true, y_pred, digits=4))\n",
    "\n",
    "# print(\"Confusion matrix:\\n\", confusion_matrix(y_true, y_pred))\n",
    "cm = confusion_matrix(y_true, y_pred)\n",
    "\n",
    "\n",
    "plt.figure(figsize=(4, 3))\n",
    "sns.heatmap(cm, annot=True, fmt=\"d\", cmap=\"Blues\")\n",
    "\n",
    "\n",
    "plt.xlabel(\"Predicted Label\")\n",
    "plt.ylabel(\"True Label\")\n",
    "plt.title(\"Confusion Matrix\")\n",
    "plt.show()"
   ]
  },
  {
   "cell_type": "code",
   "execution_count": null,
   "id": "ee686264",
   "metadata": {},
   "outputs": [],
   "source": []
  }
 ],
 "metadata": {
  "kernelspec": {
   "display_name": "lego-mlops",
   "language": "python",
   "name": "python3"
  },
  "language_info": {
   "codemirror_mode": {
    "name": "ipython",
    "version": 3
   },
   "file_extension": ".py",
   "mimetype": "text/x-python",
   "name": "python",
   "nbconvert_exporter": "python",
   "pygments_lexer": "ipython3",
   "version": "3.11.13"
  }
 },
 "nbformat": 4,
 "nbformat_minor": 5
}
