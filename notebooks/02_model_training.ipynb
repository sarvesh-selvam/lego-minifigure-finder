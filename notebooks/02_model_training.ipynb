{
 "cells": [
  {
   "cell_type": "markdown",
   "id": "81bd7e2b",
   "metadata": {},
   "source": []
  },
  {
   "cell_type": "code",
   "execution_count": null,
   "id": "49c58462",
   "metadata": {},
   "outputs": [],
   "source": [
    "# src/data.py\n",
    "\n",
    "\n",
    "import os\n",
    "import pandas as pd\n",
    "from PIL import Image\n",
    "import torch\n",
    "from torch.utils.data import Dataset, DataLoader\n",
    "from torchvision import transforms as T\n",
    "\n",
    "IMAGENET_MEAN = [0.485, 0.456, 0.406]\n",
    "IMAGENET_STD  = [0.229, 0.224, 0.225]\n",
    "\n",
    "\n",
    "\n",
    "def _tfms(image_size=224):\n",
    "    train = T.Compose([\n",
    "        T.Resize(int(image_size * 1.14)),\n",
    "        T.RandomResizedCrop(image_size, scale=(0.8, 1.0)),\n",
    "        T.RandomHorizontalFlip(p=0.5),\n",
    "        T.ToTensor(),\n",
    "        T.Normalize(IMAGENET_MEAN, IMAGENET_STD),\n",
    "    ])\n",
    "    eval_ = T.Compose([\n",
    "        T.Resize(int(image_size * 1.14)),\n",
    "        T.CenterCrop(image_size),\n",
    "        T.ToTensor(),\n",
    "        T.Normalize(IMAGENET_MEAN, IMAGENET_STD),\n",
    "    ])\n",
    "    return {\"train\": train, \"val\": eval_, \"test\": eval_}\n",
    "\n",
    "\n",
    "\n",
    "class CSVDataset(Dataset):\n",
    "    def __init__(self, csv_path, img_dir, transforms=None):\n",
    "        self.df = pd.read_csv(csv_path)\n",
    "        if not {\"filename\",\"label\"}.issubset(self.df.columns):\n",
    "            raise ValueError(f\"{csv_path} must have 'filename' and 'label' columns.\")\n",
    "        self.img_dir = img_dir\n",
    "        self.transforms = transforms\n",
    "\n",
    "    def __len__(self): return len(self.df)\n",
    "\n",
    "    def __getitem__(self, idx):\n",
    "        row = self.df.iloc[idx]\n",
    "        path = os.path.join(self.img_dir, str(row[\"filename\"]))\n",
    "        img = Image.open(path).convert(\"RGB\")\n",
    "        y = int(row[\"label\"])\n",
    "        if self.transforms: img = self.transforms(img)\n",
    "        return img, y\n",
    "\n",
    "\n",
    "\n",
    "def make_loaders(\n",
    "    data_dir=\"data\",\n",
    "    images_subdir=\"images\",\n",
    "    batch_size=32,\n",
    "    num_workers=0,         # macOS: start at 0; bump later if stable\n",
    "    pin_memory=True,\n",
    "    image_size=224,\n",
    "):\n",
    "    csvs = {\n",
    "        \"train\": os.path.join(data_dir, \"train.csv\"),\n",
    "        \"val\":   os.path.join(data_dir, \"val.csv\"),\n",
    "        \"test\":  os.path.join(data_dir, \"test.csv\"),\n",
    "    }\n",
    "    img_dir = os.path.join(data_dir, images_subdir)\n",
    "    tf = _tfms(image_size)\n",
    "\n",
    "    ds = {\n",
    "        split: CSVDataset(csvs[split], img_dir, transforms=tf[\"train\" if split==\"train\" else \"val\"])\n",
    "        for split in [\"train\",\"val\",\"test\"]\n",
    "    }\n",
    "\n",
    "    loaders = {\n",
    "        \"train\": DataLoader(ds[\"train\"], batch_size=batch_size, shuffle=True,\n",
    "                            num_workers=num_workers, pin_memory=pin_memory),\n",
    "        \"val\":   DataLoader(ds[\"val\"], batch_size=batch_size, shuffle=False,\n",
    "                            num_workers=num_workers, pin_memory=pin_memory),\n",
    "        \"test\":  DataLoader(ds[\"test\"], batch_size=batch_size, shuffle=False,\n",
    "                            num_workers=num_workers, pin_memory=pin_memory),\n",
    "    }\n",
    "    return loaders\n"
   ]
  },
  {
   "cell_type": "code",
   "execution_count": 3,
   "id": "1fd42d0a",
   "metadata": {},
   "outputs": [
    {
     "name": "stdout",
     "output_type": "stream",
     "text": [
      "torch.Size([16, 3, 224, 224]) tensor([1, 1, 0, 0, 0, 0, 0, 0])\n"
     ]
    },
    {
     "name": "stderr",
     "output_type": "stream",
     "text": [
      "/Users/sarvesh/anaconda3/envs/lego-mlops/lib/python3.11/site-packages/torch/utils/data/dataloader.py:684: UserWarning: 'pin_memory' argument is set as true but not supported on MPS now, then device pinned memory won't be used.\n",
      "  warnings.warn(warn_msg)\n"
     ]
    }
   ],
   "source": [
    "data_dir = \"/Users/sarvesh/Desktop/GitHub/lego-minifigure-finder/data\"\n",
    "\n",
    "loaders = make_loaders(data_dir=data_dir, images_subdir=\"images\", batch_size=16)\n",
    "imgs, labels = next(iter(loaders[\"train\"]))\n",
    "print(imgs.shape, labels[:8])"
   ]
  },
  {
   "cell_type": "code",
   "execution_count": null,
   "id": "9f221e92",
   "metadata": {},
   "outputs": [],
   "source": []
  }
 ],
 "metadata": {
  "kernelspec": {
   "display_name": "lego-mlops",
   "language": "python",
   "name": "python3"
  },
  "language_info": {
   "codemirror_mode": {
    "name": "ipython",
    "version": 3
   },
   "file_extension": ".py",
   "mimetype": "text/x-python",
   "name": "python",
   "nbconvert_exporter": "python",
   "pygments_lexer": "ipython3",
   "version": "3.11.13"
  }
 },
 "nbformat": 4,
 "nbformat_minor": 5
}
